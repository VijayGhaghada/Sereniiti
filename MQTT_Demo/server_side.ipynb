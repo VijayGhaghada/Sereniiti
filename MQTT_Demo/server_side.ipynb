{
 "cells": [
  {
   "cell_type": "code",
   "execution_count": 4,
   "id": "9fb3024f",
   "metadata": {},
   "outputs": [
    {
     "name": "stdout",
     "output_type": "stream",
     "text": [
      "rc: 0\n",
      "Topic : mytest/sereniiti Input Message :   b'Throw garbage out'Topic : mytest/sereniiti Input Message :   b'Throw garbage out'\n",
      "\n",
      "Topic : mytest/sereniiti Input Message :   b'Throw garbage out'\n"
     ]
    }
   ],
   "source": [
    "import random\n",
    "import time\n",
    "import configparser\n",
    "\n",
    "import paho.mqtt.client as mqtt\n",
    "\n",
    "config = configparser.RawConfigParser()\n",
    "config.read('ConfigFile.properties')\n",
    "mqtt_server = config.get('MQTTSERVER','mqtt_server')\n",
    "mqtt_port = int(config.get('MQTTSERVER','mqtt_port'))\n",
    "mqtt_password = config.get('MQTTSERVER','mqtt_password')\n",
    "mqtt_username = config.get('MQTTSERVER','mqtt_username')\n",
    "message = config.get('MESSAGE','server_message')\n",
    "topic = config.get('MESSAGE','topic')\n",
    "\n",
    "def on_connect(mqttc,obj,flags,rc):\n",
    "    print(\"rc: \"+str(rc))\n",
    "\n",
    "def on_message(mqttc, obj, msg):\n",
    "    print(\"Topic : \"+msg.topic+\" Input Message :  \"+\" \"+str(msg.payload))\n",
    "    mqttcli = mqtt.Client(transport='websockets')   \n",
    "    mqttcli.on_connect = on_connect\n",
    "    mqttcli.username_pw_set(mqtt_username, mqtt_password)\n",
    "    mqttcli.connect(mqtt_server,mqtt_port)\n",
    "    mqttcli.publish(f\"{topic} Reply\", message)\n",
    "    \n",
    "    \n",
    "\n",
    "# create the client\n",
    "mqttc = mqtt.Client(transport='websockets')   \n",
    "mqttc.on_connect = on_connect\n",
    "mqttc.on_message = on_message\n",
    "mqttc.username_pw_set(mqtt_username, mqtt_password)\n",
    "mqttc.connect(mqtt_server,mqtt_port)\n",
    "mqttc.subscribe(topic, 0)\n",
    "\n",
    "\n",
    "# Blocking call that processes network traffic, dispatches callbacks and handles reconnecting.\n",
    "mqttc.loop_start()"
   ]
  },
  {
   "cell_type": "code",
   "execution_count": null,
   "id": "f74ced21",
   "metadata": {},
   "outputs": [],
   "source": []
  },
  {
   "cell_type": "code",
   "execution_count": null,
   "id": "b0a25031",
   "metadata": {},
   "outputs": [],
   "source": []
  },
  {
   "cell_type": "code",
   "execution_count": null,
   "id": "574b629d",
   "metadata": {},
   "outputs": [],
   "source": []
  },
  {
   "cell_type": "code",
   "execution_count": null,
   "id": "d77d64cd",
   "metadata": {},
   "outputs": [],
   "source": []
  },
  {
   "cell_type": "code",
   "execution_count": null,
   "id": "606fd316",
   "metadata": {},
   "outputs": [],
   "source": []
  },
  {
   "cell_type": "code",
   "execution_count": null,
   "id": "114951b8",
   "metadata": {},
   "outputs": [],
   "source": []
  },
  {
   "cell_type": "code",
   "execution_count": null,
   "id": "c884b3e4",
   "metadata": {},
   "outputs": [],
   "source": []
  },
  {
   "cell_type": "code",
   "execution_count": null,
   "id": "e4cf65eb",
   "metadata": {},
   "outputs": [],
   "source": []
  },
  {
   "cell_type": "code",
   "execution_count": null,
   "id": "2c98a991",
   "metadata": {},
   "outputs": [],
   "source": []
  },
  {
   "cell_type": "code",
   "execution_count": null,
   "id": "fcf8bf85",
   "metadata": {},
   "outputs": [],
   "source": []
  },
  {
   "cell_type": "code",
   "execution_count": null,
   "id": "0459da16",
   "metadata": {},
   "outputs": [],
   "source": []
  },
  {
   "cell_type": "code",
   "execution_count": null,
   "id": "1249c936",
   "metadata": {},
   "outputs": [],
   "source": []
  },
  {
   "cell_type": "code",
   "execution_count": null,
   "id": "5f9a231c",
   "metadata": {},
   "outputs": [],
   "source": []
  },
  {
   "cell_type": "code",
   "execution_count": null,
   "id": "fcca5051",
   "metadata": {},
   "outputs": [],
   "source": []
  },
  {
   "cell_type": "code",
   "execution_count": null,
   "id": "02e5ffac",
   "metadata": {},
   "outputs": [],
   "source": []
  },
  {
   "cell_type": "code",
   "execution_count": null,
   "id": "ec1d9a23",
   "metadata": {},
   "outputs": [],
   "source": []
  },
  {
   "cell_type": "code",
   "execution_count": null,
   "id": "4bf473cc",
   "metadata": {},
   "outputs": [],
   "source": []
  },
  {
   "cell_type": "code",
   "execution_count": null,
   "id": "78b13877",
   "metadata": {},
   "outputs": [],
   "source": []
  },
  {
   "cell_type": "code",
   "execution_count": null,
   "id": "c9590364",
   "metadata": {},
   "outputs": [],
   "source": []
  },
  {
   "cell_type": "code",
   "execution_count": null,
   "id": "ed9c5cab",
   "metadata": {},
   "outputs": [],
   "source": []
  },
  {
   "cell_type": "code",
   "execution_count": null,
   "id": "0da23960",
   "metadata": {},
   "outputs": [],
   "source": []
  },
  {
   "cell_type": "code",
   "execution_count": null,
   "id": "9e6d66c0",
   "metadata": {},
   "outputs": [],
   "source": []
  },
  {
   "cell_type": "code",
   "execution_count": null,
   "id": "8da91d56",
   "metadata": {},
   "outputs": [],
   "source": []
  },
  {
   "cell_type": "code",
   "execution_count": null,
   "id": "569e4a8e",
   "metadata": {},
   "outputs": [],
   "source": []
  },
  {
   "cell_type": "code",
   "execution_count": null,
   "id": "059ffd5f",
   "metadata": {},
   "outputs": [],
   "source": []
  },
  {
   "cell_type": "code",
   "execution_count": null,
   "id": "4140b291",
   "metadata": {},
   "outputs": [],
   "source": []
  },
  {
   "cell_type": "code",
   "execution_count": null,
   "id": "6cf07641",
   "metadata": {},
   "outputs": [],
   "source": []
  },
  {
   "cell_type": "code",
   "execution_count": null,
   "id": "e77f595e",
   "metadata": {},
   "outputs": [],
   "source": []
  },
  {
   "cell_type": "code",
   "execution_count": null,
   "id": "cb848099",
   "metadata": {},
   "outputs": [],
   "source": []
  },
  {
   "cell_type": "code",
   "execution_count": null,
   "id": "bb9dc13f",
   "metadata": {},
   "outputs": [],
   "source": []
  },
  {
   "cell_type": "code",
   "execution_count": null,
   "id": "3ab76199",
   "metadata": {},
   "outputs": [],
   "source": []
  },
  {
   "cell_type": "code",
   "execution_count": null,
   "id": "769be096",
   "metadata": {},
   "outputs": [],
   "source": []
  }
 ],
 "metadata": {
  "kernelspec": {
   "display_name": "Python 3",
   "language": "python",
   "name": "python3"
  },
  "language_info": {
   "codemirror_mode": {
    "name": "ipython",
    "version": 3
   },
   "file_extension": ".py",
   "mimetype": "text/x-python",
   "name": "python",
   "nbconvert_exporter": "python",
   "pygments_lexer": "ipython3",
   "version": "3.8.10"
  }
 },
 "nbformat": 4,
 "nbformat_minor": 5
}
