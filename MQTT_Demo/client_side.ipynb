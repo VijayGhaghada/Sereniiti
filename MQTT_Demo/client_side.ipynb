{
 "cells": [
  {
   "cell_type": "code",
   "execution_count": 10,
   "id": "united-circle",
   "metadata": {},
   "outputs": [
    {
     "name": "stdout",
     "output_type": "stream",
     "text": [
      "Message Published: Throw garbage out\n",
      "rc: 0\n",
      "Subscribed: 1 (0,)\n",
      "Message Recieved From Server:  b'I have issue with dirt, please throw garbage out'\n"
     ]
    }
   ],
   "source": [
    "import sys\n",
    "import configparser\n",
    "#import paho.mqtt.client as mqtt\n",
    "from paho.mqtt import client as mqtt\n",
    "\n",
    "config = configparser.RawConfigParser()\n",
    "config.read('ConfigFile.properties')\n",
    "mqtt_server = config.get('MQTTSERVER','mqtt_server')\n",
    "mqtt_port = int(config.get('MQTTSERVER','mqtt_port'))\n",
    "mqtt_password = config.get('MQTTSERVER','mqtt_password')\n",
    "mqtt_username = config.get('MQTTSERVER','mqtt_username')\n",
    "message = config.get('MESSAGE','client_message')\n",
    "topic = config.get('MESSAGE','topic')\n",
    "\n",
    "def on_connect(mqttc,obj,flags,rc):\n",
    "    print(\"rc: \"+str(rc))\n",
    "\n",
    "def on_message(mqttc, obj, msg):\n",
    "    print(\"Message Recieved From Server: \"+\" \"+str(msg.payload))\n",
    "    mqttc.loop_stop()\n",
    "    \n",
    "def on_publish(mqttc, obj, mid):\n",
    "    #print(\"mid: \"+str(mid))\n",
    "    print(f\"Message Published: \"+ message)\n",
    "\n",
    "def on_subscribe(mqttc, obj, mid, granted_qos):\n",
    "    print(\"Subscribed: \"+str(mid)+\" \"+str(granted_qos))\n",
    "\n",
    "def on_log(mqttc, obj, level, string):\n",
    "    print(string)\n",
    "\n",
    "mqttc = mqtt.Client(transport='websockets')   \n",
    "mqttc.on_message = on_message\n",
    "mqttc.on_connect = on_connect\n",
    "mqttc.on_publish = on_publish\n",
    "mqttc.on_subscribe = on_subscribe\n",
    "mqttc.username_pw_set(mqtt_username, mqtt_password)\n",
    "\n",
    "mqttc.connect(mqtt_server,mqtt_port)\n",
    "\n",
    "mqttc.subscribe(f\"{topic} Reply\", 0)\n",
    "#print(f\"Message Published: \"+ message)\n",
    "mqttc.publish(topic, message)\n",
    "#mqttc.subscribe(\"$SYS/#\", 0)\n",
    "\n",
    "mqttc.loop_start()"
   ]
  },
  {
   "cell_type": "code",
   "execution_count": null,
   "id": "cloudy-stocks",
   "metadata": {},
   "outputs": [],
   "source": []
  },
  {
   "cell_type": "code",
   "execution_count": null,
   "id": "da236d69",
   "metadata": {},
   "outputs": [],
   "source": []
  },
  {
   "cell_type": "code",
   "execution_count": null,
   "id": "f143fe72",
   "metadata": {},
   "outputs": [],
   "source": []
  },
  {
   "cell_type": "code",
   "execution_count": null,
   "id": "44340536",
   "metadata": {},
   "outputs": [],
   "source": []
  },
  {
   "cell_type": "code",
   "execution_count": null,
   "id": "c6fae801",
   "metadata": {},
   "outputs": [],
   "source": []
  }
 ],
 "metadata": {
  "kernelspec": {
   "display_name": "Python 3",
   "language": "python",
   "name": "python3"
  },
  "language_info": {
   "codemirror_mode": {
    "name": "ipython",
    "version": 3
   },
   "file_extension": ".py",
   "mimetype": "text/x-python",
   "name": "python",
   "nbconvert_exporter": "python",
   "pygments_lexer": "ipython3",
   "version": "3.8.10"
  }
 },
 "nbformat": 4,
 "nbformat_minor": 5
}
