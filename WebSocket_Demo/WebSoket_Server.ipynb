{
 "cells": [
  {
   "cell_type": "code",
   "execution_count": null,
   "id": "51722020",
   "metadata": {},
   "outputs": [
    {
     "name": "stdout",
     "output_type": "stream",
     "text": [
      "Requirement already satisfied: nest_asyncio in c:\\users\\vijay\\.conda\\envs\\sereniiti\\lib\\site-packages (1.5.1)\n",
      "Requirement already satisfied: ConfigParser in c:\\users\\vijay\\.conda\\envs\\sereniiti\\lib\\site-packages (5.0.2)\n",
      "< Ghaghada\n",
      "> HELLO Ghaghada!\n"
     ]
    }
   ],
   "source": [
    "#!/usr/bin/pytho\n",
    "!pip install nest_asyncio\n",
    "!pip3 install ConfigParser\n",
    "import nest_asyncio\n",
    "nest_asyncio.apply()\n",
    "import asyncio\n",
    "import websockets\n",
    "import configparser\n",
    "\n",
    "config = configparser.RawConfigParser()\n",
    "config.read('ConfigFile.properties')\n",
    "address = config.get('SERVERADDRESS','ADDRESS')\n",
    "port = config.get('SERVERADDRESS','PORT')\n",
    "message = config.get('SERVERMESSAGE','MESSAGE')\n",
    "\n",
    "async def hello(websocket, path):\n",
    "    \n",
    "    name = await websocket.recv()\n",
    "    print(f\"< {name}\")\n",
    "\n",
    "    greeting = f\"{message} {name}!\"\n",
    "\n",
    "    await websocket.send(greeting)\n",
    "    print(f\"> {greeting}\")\n",
    "\n",
    "start_server = websockets.serve(hello, address, port)\n",
    "\n",
    "asyncio.get_event_loop().run_until_complete(start_server)\n",
    "asyncio.get_event_loop().run_forever()"
   ]
  },
  {
   "cell_type": "code",
   "execution_count": null,
   "id": "437db061",
   "metadata": {},
   "outputs": [],
   "source": []
  },
  {
   "cell_type": "code",
   "execution_count": null,
   "id": "24d84547",
   "metadata": {},
   "outputs": [],
   "source": []
  },
  {
   "cell_type": "code",
   "execution_count": null,
   "id": "8b126871",
   "metadata": {},
   "outputs": [],
   "source": []
  }
 ],
 "metadata": {
  "kernelspec": {
   "display_name": "Python 3",
   "language": "python",
   "name": "python3"
  },
  "language_info": {
   "codemirror_mode": {
    "name": "ipython",
    "version": 3
   },
   "file_extension": ".py",
   "mimetype": "text/x-python",
   "name": "python",
   "nbconvert_exporter": "python",
   "pygments_lexer": "ipython3",
   "version": "3.8.10"
  }
 },
 "nbformat": 4,
 "nbformat_minor": 5
}
