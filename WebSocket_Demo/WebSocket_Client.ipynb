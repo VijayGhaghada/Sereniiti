{
 "cells": [
  {
   "cell_type": "code",
   "execution_count": 1,
   "id": "27061d40",
   "metadata": {},
   "outputs": [
    {
     "name": "stdout",
     "output_type": "stream",
     "text": [
      "What's your name? Ghaghada\n",
      "> Ghaghada\n",
      "< HELLO Ghaghada!\n"
     ]
    }
   ],
   "source": [
    "import nest_asyncio\n",
    "nest_asyncio.apply()\n",
    "import websockets\n",
    "import asyncio\n",
    "import configparser\n",
    "\n",
    "config = configparser.RawConfigParser()\n",
    "config.read('ConfigFile.properties')\n",
    "address = config.get('SERVERADDRESS','ADDRESS')\n",
    "port = config.get('SERVERADDRESS','PORT')\n",
    "\n",
    "\n",
    "async def hello():\n",
    "    uri = f\"ws://{address}:{port}\"\n",
    "    async with websockets.connect(uri) as websocket:\n",
    "        name = input(\"What's your name? \")\n",
    "\n",
    "        await websocket.send(name)\n",
    "        print(f\"> {name}\")\n",
    "\n",
    "        greeting = await websocket.recv()\n",
    "        print(f\"< {greeting}\")\n",
    "\n",
    "asyncio.get_event_loop().run_until_complete(hello())\n",
    "#hello()"
   ]
  },
  {
   "cell_type": "code",
   "execution_count": null,
   "id": "c2f7e740",
   "metadata": {},
   "outputs": [],
   "source": []
  },
  {
   "cell_type": "code",
   "execution_count": null,
   "id": "6b5aa40c",
   "metadata": {},
   "outputs": [],
   "source": []
  },
  {
   "cell_type": "code",
   "execution_count": null,
   "id": "27a26800",
   "metadata": {},
   "outputs": [],
   "source": []
  },
  {
   "cell_type": "code",
   "execution_count": null,
   "id": "1d576f63",
   "metadata": {},
   "outputs": [],
   "source": []
  }
 ],
 "metadata": {
  "kernelspec": {
   "display_name": "Python 3",
   "language": "python",
   "name": "python3"
  },
  "language_info": {
   "codemirror_mode": {
    "name": "ipython",
    "version": 3
   },
   "file_extension": ".py",
   "mimetype": "text/x-python",
   "name": "python",
   "nbconvert_exporter": "python",
   "pygments_lexer": "ipython3",
   "version": "3.8.10"
  }
 },
 "nbformat": 4,
 "nbformat_minor": 5
}
